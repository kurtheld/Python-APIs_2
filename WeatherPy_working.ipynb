{
 "cells": [
  {
   "cell_type": "markdown",
   "metadata": {},
   "source": [
    "# WeatherPy\n",
    "----\n",
    "\n",
    "### Analysis\n",
    "* As expected, the weather becomes significantly warmer as one approaches the equator (0 Deg. Latitude). More interestingly, however, is the fact that the southern hemisphere tends to be warmer this time of year than the northern hemisphere. This may be due to the tilt of the earth.\n",
    "* There is no strong relationship between latitude and cloudiness. However, it is interesting to see that a strong band of cities sits at 0, 80, and 100% cloudiness.\n",
    "* There is no strong relationship between latitude and wind speed. However, in northern hemispheres there is a flurry of cities with over 20 mph of wind.\n",
    "\n",
    "---\n",
    "\n",
    "#### Note\n",
    "* Instructions have been included for each segment. You do not have to follow them exactly, but they are included to help you think through the steps."
   ]
  },
  {
   "cell_type": "code",
   "execution_count": 171,
   "metadata": {
    "scrolled": true
   },
   "outputs": [],
   "source": [
    "# Dependencies and Setup\n",
    "import matplotlib.pyplot as plt\n",
    "import pandas as pd\n",
    "import numpy as np\n",
    "import requests\n",
    "import time\n",
    "\n",
    "# Import API key\n",
    "from api_keys import api_key\n",
    "\n",
    "# Incorporated citipy to determine city based on latitude and longitude\n",
    "from citipy import citipy\n",
    "\n",
    "# Output File (CSV)\n",
    "output_data_file = \"output_data/cities.csv\"\n",
    "\n",
    "# Range of latitudes and longitudes\n",
    "lat_range = (-90, 90)\n",
    "lng_range = (-180, 180)"
   ]
  },
  {
   "cell_type": "markdown",
   "metadata": {},
   "source": [
    "## Generate Cities List"
   ]
  },
  {
   "cell_type": "code",
   "execution_count": 172,
   "metadata": {},
   "outputs": [
    {
     "data": {
      "text/plain": [
       "5"
      ]
     },
     "execution_count": 172,
     "metadata": {},
     "output_type": "execute_result"
    }
   ],
   "source": [
    "# List for holding lat_lngs and cities\n",
    "lat_lngs = []\n",
    "cities = []\n",
    "\n",
    "# Create a set of random lat and lng combinations\n",
    "lats = np.random.uniform(low=-90.000, high=90.000, size=5)\n",
    "lngs = np.random.uniform(low=-180.000, high=180.000, size=5)\n",
    "lat_lngs = zip(lats, lngs)\n",
    "\n",
    "# Identify nearest city for each lat, lng combination\n",
    "for lat_lng in lat_lngs:\n",
    "    city = citipy.nearest_city(lat_lng[0], lat_lng[1]).city_name\n",
    "    \n",
    "    # If the city is unique, then add it to a our cities list\n",
    "    if city not in cities:\n",
    "        cities.append(city)\n",
    "\n",
    "# Print the city count to confirm sufficient count\n",
    "len(cities)"
   ]
  },
  {
   "cell_type": "markdown",
   "metadata": {},
   "source": [
    "### Perform API Calls\n",
    "* Perform a weather check on each city using a series of successive API calls.\n",
    "* Include a print log of each city as it'sbeing processed (with the city number and city name).\n"
   ]
  },
  {
   "cell_type": "code",
   "execution_count": 173,
   "metadata": {},
   "outputs": [
    {
     "name": "stdout",
     "output_type": "stream",
     "text": [
      "http://api.openweathermap.org/data/2.5/weather?appid=96069cde43ccdc48ebb159433c7e3434&units=imperial&q=\n"
     ]
    }
   ],
   "source": [
    "# Save config information.\n",
    "url = \"http://api.openweathermap.org/data/2.5/weather?\"\n",
    "units = \"imperial\"\n",
    "\n",
    "# Build partial query URL\n",
    "query_url = f\"{url}appid={api_key}&units={units}&q=\"\n",
    "print(query_url)"
   ]
  },
  {
   "cell_type": "code",
   "execution_count": 174,
   "metadata": {},
   "outputs": [],
   "source": [
    "from pprint import pprint"
   ]
  },
  {
   "cell_type": "code",
   "execution_count": 175,
   "metadata": {},
   "outputs": [
    {
     "name": "stdout",
     "output_type": "stream",
     "text": [
      "Oops, that temp key doesn't exist.\n",
      "Oops, that humidity key doesn't exist.\n",
      "{'base': 'stations',\n",
      " 'clouds': {'all': 80},\n",
      " 'cod': 200,\n",
      " 'coord': {'lat': 73.51, 'lon': 80.55},\n",
      " 'dt': 1554339627,\n",
      " 'id': 1507390,\n",
      " 'main': {'grnd_level': 1006.53,\n",
      "          'humidity': 100,\n",
      "          'pressure': 1007.04,\n",
      "          'sea_level': 1007.04,\n",
      "          'temp': 21.83,\n",
      "          'temp_max': 21.83,\n",
      "          'temp_min': 21.83},\n",
      " 'name': 'Dikson',\n",
      " 'sys': {'country': 'RU',\n",
      "         'message': 0.0046,\n",
      "         'sunrise': 1554333138,\n",
      "         'sunset': 1554386955},\n",
      " 'weather': [{'description': 'broken clouds',\n",
      "              'icon': '04d',\n",
      "              'id': 803,\n",
      "              'main': 'Clouds'}],\n",
      " 'wind': {'deg': 205.001, 'speed': 17.25}}\n",
      "Oops, that temp key doesn't exist.\n",
      "Oops, that humidity key doesn't exist.\n",
      "{'base': 'stations',\n",
      " 'clouds': {'all': 80},\n",
      " 'cod': 200,\n",
      " 'coord': {'lat': 55.41, 'lon': 88.92},\n",
      " 'dt': 1554339797,\n",
      " 'id': 1491519,\n",
      " 'main': {'grnd_level': 941.97,\n",
      "          'humidity': 58,\n",
      "          'pressure': 1025.2,\n",
      "          'sea_level': 1025.2,\n",
      "          'temp': 25.34,\n",
      "          'temp_max': 25.34,\n",
      "          'temp_min': 25.34},\n",
      " 'name': 'Goryachegorsk',\n",
      " 'sys': {'country': 'RU',\n",
      "         'message': 0.006,\n",
      "         'sunrise': 1554334158,\n",
      "         'sunset': 1554381918},\n",
      " 'weather': [{'description': 'broken clouds',\n",
      "              'icon': '04d',\n",
      "              'id': 803,\n",
      "              'main': 'Clouds'}],\n",
      " 'wind': {'deg': 90.0015, 'speed': 3.71}}\n",
      "Oops, that temp key doesn't exist.\n",
      "Oops, that humidity key doesn't exist.\n",
      "{'base': 'stations',\n",
      " 'clouds': {'all': 8},\n",
      " 'cod': 200,\n",
      " 'coord': {'lat': -33.64, 'lon': 115.35},\n",
      " 'dt': 1554339625,\n",
      " 'id': 2075265,\n",
      " 'main': {'humidity': 51,\n",
      "          'pressure': 1008,\n",
      "          'temp': 62.62,\n",
      "          'temp_max': 66,\n",
      "          'temp_min': 60.01},\n",
      " 'name': 'Busselton',\n",
      " 'sys': {'country': 'AU',\n",
      "         'id': 2011706,\n",
      "         'message': 0.0038,\n",
      "         'sunrise': 1554330731,\n",
      "         'sunset': 1554372661,\n",
      "         'type': 3},\n",
      " 'weather': [{'description': 'clear sky',\n",
      "              'icon': '02d',\n",
      "              'id': 800,\n",
      "              'main': 'Clear'}],\n",
      " 'wind': {'deg': 231.001, 'speed': 19.26}}\n",
      "Oops, that temp key doesn't exist.\n",
      "Oops, that humidity key doesn't exist.\n",
      "{'base': 'stations',\n",
      " 'clouds': {'all': 20},\n",
      " 'cod': 200,\n",
      " 'coord': {'lat': 22.76, 'lon': -81.45},\n",
      " 'dt': 1554335400,\n",
      " 'id': 3567082,\n",
      " 'main': {'humidity': 78,\n",
      "          'pressure': 1020,\n",
      "          'temp': 77,\n",
      "          'temp_max': 77,\n",
      "          'temp_min': 77},\n",
      " 'name': 'Bolondron',\n",
      " 'sys': {'country': 'CU',\n",
      "         'id': 7254,\n",
      "         'message': 0.0036,\n",
      "         'sunrise': 1554290185,\n",
      "         'sunset': 1554334888,\n",
      "         'type': 1},\n",
      " 'visibility': 9000,\n",
      " 'weather': [{'description': 'few clouds',\n",
      "              'icon': '02n',\n",
      "              'id': 801,\n",
      "              'main': 'Clouds'}],\n",
      " 'wind': {'deg': 60, 'speed': 9.17}}\n",
      "Oops, that temp key doesn't exist.\n",
      "Oops, that humidity key doesn't exist.\n",
      "{'base': 'stations',\n",
      " 'clouds': {'all': 88},\n",
      " 'cod': 200,\n",
      " 'coord': {'lat': 38.52, 'lon': -28.7},\n",
      " 'dt': 1554339802,\n",
      " 'id': 3372707,\n",
      " 'main': {'grnd_level': 1027.41,\n",
      "          'humidity': 100,\n",
      "          'pressure': 1030.96,\n",
      "          'sea_level': 1030.96,\n",
      "          'temp': 58.73,\n",
      "          'temp_max': 58.73,\n",
      "          'temp_min': 58.73},\n",
      " 'name': 'Ribeira Grande',\n",
      " 'rain': {'3h': 0.1025},\n",
      " 'sys': {'country': 'PT',\n",
      "         'message': 0.0045,\n",
      "         'sunrise': 1554363327,\n",
      "         'sunset': 1554409195},\n",
      " 'weather': [{'description': 'light rain',\n",
      "              'icon': '10n',\n",
      "              'id': 500,\n",
      "              'main': 'Rain'}],\n",
      " 'wind': {'deg': 349.001, 'speed': 17.58}}\n"
     ]
    }
   ],
   "source": [
    "# set up lists to hold reponse info\n",
    "temp = []\n",
    "humidity = []\n",
    "clouds =  [ ]\n",
    "wind = []\n",
    "\n",
    "for city in cities:\n",
    "    \n",
    "    try:\n",
    "        response = requests.get(query_url + city).json()\n",
    "        temp.append(response[\"temp\"])\n",
    "    except KeyError:\n",
    "        print(\"Oops, that temp key doesn't exist.\")\n",
    "    \n",
    "    try:\n",
    "        response = requests.get(query_url + city).json()\n",
    "        humidity.append(response[\"humidity\"])\n",
    "    except KeyError:\n",
    "        print(\"Oops, that humidity key doesn't exist.\")\n",
    "    \n",
    "    try:\n",
    "        response = requests.get(query_url + city).json()\n",
    "        humidity.append(response[\"clouds\"])\n",
    "    except KeyError:\n",
    "        print(\"Oops, that cloud key doesn't exist.\")\n",
    "        \n",
    "    try:\n",
    "        response = requests.get(query_url + city).json()\n",
    "        humidity.append(response[\"wind\"])\n",
    "    except KeyError:\n",
    "        print(\"Oops, that wind key doesn't exist.\")\n",
    "                      \n",
    "#     humidity.append(response['main']['humidity'])\n",
    "#     clouds.append(response['clouds'])\n",
    "#     wind.append(response['wind'])\n",
    "    pprint(response)\n",
    "# print(f\"The humidity information received is: {humidity}, {temp}, {clouds}, {wind}\")"
   ]
  },
  {
   "cell_type": "markdown",
   "metadata": {},
   "source": [
    "### Convert Raw Data to DataFrame\n",
    "* Export the city data into a .csv.\n",
    "* Display the DataFrame"
   ]
  },
  {
   "cell_type": "code",
   "execution_count": null,
   "metadata": {},
   "outputs": [],
   "source": []
  },
  {
   "cell_type": "code",
   "execution_count": null,
   "metadata": {},
   "outputs": [],
   "source": []
  },
  {
   "cell_type": "markdown",
   "metadata": {},
   "source": [
    "### Plotting the Data\n",
    "* Use proper labeling of the plots using plot titles (including date of analysis) and axes labels.\n",
    "* Save the plotted figures as .pngs."
   ]
  },
  {
   "cell_type": "markdown",
   "metadata": {},
   "source": [
    "#### Latitude vs. Temperature Plot"
   ]
  },
  {
   "cell_type": "code",
   "execution_count": null,
   "metadata": {},
   "outputs": [],
   "source": []
  },
  {
   "cell_type": "markdown",
   "metadata": {},
   "source": [
    "#### Latitude vs. Humidity Plot"
   ]
  },
  {
   "cell_type": "code",
   "execution_count": null,
   "metadata": {},
   "outputs": [],
   "source": []
  },
  {
   "cell_type": "markdown",
   "metadata": {},
   "source": [
    "#### Latitude vs. Cloudiness Plot"
   ]
  },
  {
   "cell_type": "code",
   "execution_count": null,
   "metadata": {},
   "outputs": [],
   "source": []
  },
  {
   "cell_type": "markdown",
   "metadata": {},
   "source": [
    "#### Latitude vs. Wind Speed Plot"
   ]
  },
  {
   "cell_type": "code",
   "execution_count": null,
   "metadata": {},
   "outputs": [],
   "source": []
  },
  {
   "cell_type": "code",
   "execution_count": null,
   "metadata": {},
   "outputs": [],
   "source": []
  }
 ],
 "metadata": {
  "anaconda-cloud": {},
  "kernel_info": {
   "name": "python3"
  },
  "kernelspec": {
   "display_name": "Python 3",
   "language": "python",
   "name": "python3"
  },
  "language_info": {
   "codemirror_mode": {
    "name": "ipython",
    "version": 3
   },
   "file_extension": ".py",
   "mimetype": "text/x-python",
   "name": "python",
   "nbconvert_exporter": "python",
   "pygments_lexer": "ipython3",
   "version": "3.7.1"
  },
  "nteract": {
   "version": "0.12.3"
  }
 },
 "nbformat": 4,
 "nbformat_minor": 2
}
